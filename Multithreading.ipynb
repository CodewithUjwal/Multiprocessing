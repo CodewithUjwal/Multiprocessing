{
 "cells": [
  {
   "cell_type": "code",
   "execution_count": null,
   "id": "bccd4c94-71bc-41f8-a3e4-50eff9b3d4f7",
   "metadata": {},
   "outputs": [],
   "source": [
    "#Q1\n",
    "'''\n",
    "Multithreading in Python allows the concurrent execution of multiple threads (smaller units of a process) to optimize the use of resources and improve the performance of applications.\n",
    "This technique is particularly useful in scenarios where a program can be divided into independent tasks that can run simultaneously.\n",
    "The Module is used as threading module\n",
    "'''\n"
   ]
  },
  {
   "cell_type": "code",
   "execution_count": null,
   "id": "f6173ddb-a305-4a0d-a933-dac3e256176f",
   "metadata": {},
   "outputs": [],
   "source": [
    "#Q2\n",
    "'''\n",
    "The threading module is used in Python to create and manage threads.\n",
    "This module provides a higher-level interface for threading compared to the lower-level _thread module, making it easier to work with threads in a more object-oriented and structured way.\n",
    "It includes various methods and functions to control and coordinate thread execution.\n",
    "1.Activecount():\n",
    "use-Returns the number of Thread objects currently alive.\n",
    "2.CurrentThread():\n",
    "Use - Returns the current Thread object corresponding to the caller's thread of control.\n",
    "3.Enumerate():\n",
    "Use - Returns a list of all Thread objects currently alive.\n",
    "The list includes daemon threads and the main thread, but excludes terminated threads and threads that have not yet been started.\n",
    "'''"
   ]
  },
  {
   "cell_type": "code",
   "execution_count": null,
   "id": "0c3d4b92-314a-49c4-a8b0-e518e652a1c0",
   "metadata": {},
   "outputs": [],
   "source": [
    "#Q3\n",
    "'''\n",
    "1.The run method defines the thread's activity.\n",
    "It represents the code that the thread will execute when it starts. By default, it invokes the callable object passed to the Thread object's target paramete\n",
    "2.The start method starts the thread's activity. It invokes the run method in a separate thread of control. This method must be called at most once per thread object.\n",
    "It raises a RuntimeError if called more than once.\n",
    "3.The join method waits for the thread to terminate.\n",
    "This blocks the calling thread until the thread whose join method is called terminates. Optionally, a timeout can be specified.\n",
    "4. The isAlive method checks whether the thread is still executing. It returns True if the thread is still running and False otherwise.\n",
    "'''"
   ]
  },
  {
   "cell_type": "code",
   "execution_count": 1,
   "id": "ad92e150-1db9-4920-9459-5ff156aec67a",
   "metadata": {},
   "outputs": [
    {
     "name": "stdout",
     "output_type": "stream",
     "text": [
      "Square of 1 is 1\n",
      "Square of 2 is 4\n",
      "Square of 3 is 9\n",
      "Square of 4 is 16\n",
      "Square of 5 is 25\n",
      "Cube of 1 is 1\n",
      "Cube of 2 is 8\n",
      "Cube of 3 is 27\n",
      "Cube of 4 is 64\n",
      "Cube of 5 is 125\n",
      "Done!\n"
     ]
    }
   ],
   "source": [
    "#Q4\n",
    "import threading\n",
    "\n",
    "def print_squares(numbers):\n",
    "    for num in numbers:\n",
    "        print(f\"Square of {num} is {num ** 2}\")\n",
    "\n",
    "def print_cubes(numbers):\n",
    "    for num in numbers:\n",
    "        print(f\"Cube of {num} is {num ** 3}\")\n",
    "\n",
    "# List of numbers\n",
    "numbers = [1, 2, 3, 4, 5]\n",
    "\n",
    "# Create two threads\n",
    "thread1 = threading.Thread(target=print_squares, args=(numbers,))\n",
    "thread2 = threading.Thread(target=print_cubes, args=(numbers,))\n",
    "\n",
    "# Start the threads\n",
    "thread1.start()\n",
    "thread2.start()\n",
    "\n",
    "# Wait for both threads to complete\n",
    "thread1.join()\n",
    "thread2.join()\n",
    "\n",
    "print(\"Done!\")\n"
   ]
  },
  {
   "cell_type": "code",
   "execution_count": null,
   "id": "290bae9c-ddf9-403f-be55-be0491c2516b",
   "metadata": {},
   "outputs": [],
   "source": [
    "#Q5\n",
    "'''\n",
    "1.Deadlock - A deadlock is a situation in concurrent programming where two or more threads are unable to proceed because each is waiting for the other to release a resource.\n",
    "Deadlocks result in a situation where threads are stuck indefinitely, unable to make progress.\n",
    "\n",
    "2 RaceCondition - A race condition occurs when the behavior of a software system depends on the relative timing or order of execution of threads.\n",
    "It happens when two or more threads access shared data and try to change it simultaneously, leading to unpredictable results."
   ]
  },
  {
   "cell_type": "code",
   "execution_count": null,
   "id": "b49b8395-b590-470c-8fe8-db995c426ef8",
   "metadata": {},
   "outputs": [],
   "source": []
  }
 ],
 "metadata": {
  "kernelspec": {
   "display_name": "Python 3 (ipykernel)",
   "language": "python",
   "name": "python3"
  },
  "language_info": {
   "codemirror_mode": {
    "name": "ipython",
    "version": 3
   },
   "file_extension": ".py",
   "mimetype": "text/x-python",
   "name": "python",
   "nbconvert_exporter": "python",
   "pygments_lexer": "ipython3",
   "version": "3.10.8"
  }
 },
 "nbformat": 4,
 "nbformat_minor": 5
}
