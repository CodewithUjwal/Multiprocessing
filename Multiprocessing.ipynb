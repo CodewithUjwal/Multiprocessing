{
 "cells": [
  {
   "cell_type": "code",
   "execution_count": null,
   "id": "2322ce5a-3cac-4d52-8b5f-c499d2ba6bac",
   "metadata": {},
   "outputs": [],
   "source": [
    "#Q1\n",
    "'''\n",
    "Multiprocessing in Python refers to the ability to run multiple processes simultaneously, taking advantage of multiple CPU cores to perform tasks in parallel.\n",
    "The multiprocessing module in Python provides support for creating and managing separate processes, making it easier to write concurrent applications.\n"
   ]
  },
  {
   "cell_type": "code",
   "execution_count": null,
   "id": "cd19dc25-c961-4051-98f9-eb2512d4d523",
   "metadata": {},
   "outputs": [],
   "source": [
    "#Q2\n",
    "'''\n",
    "Use multiprocessing for tasks that require heavy computation and can benefit from multiple CPU cores.\n",
    "Use multithreading for tasks that involve a lot of I/O operations and can benefit from shared memory space and easier communication.\n",
    "'''"
   ]
  },
  {
   "cell_type": "code",
   "execution_count": 1,
   "id": "ad711037-1c32-4f78-bf12-f2b25cb30d7c",
   "metadata": {},
   "outputs": [
    {
     "name": "stdout",
     "output_type": "stream",
     "text": [
      "Worker: 1\n",
      "Process finished\n"
     ]
    }
   ],
   "source": [
    "#Q3\n",
    "import multiprocessing\n",
    "\n",
    "def worker(num):\n",
    "    \"\"\"Function to run in a separate process.\"\"\"\n",
    "    print(f'Worker: {num}')\n",
    "\n",
    "if __name__ == '__main__':\n",
    "    # Create a Process object\n",
    "    process = multiprocessing.Process(target=worker, args=(1,))\n",
    "    \n",
    "    # Start the process\n",
    "    process.start()\n",
    "    \n",
    "    # Wait for the process to finish\n",
    "    process.join()\n",
    "\n",
    "    print('Process finished')\n"
   ]
  },
  {
   "cell_type": "code",
   "execution_count": null,
   "id": "231e5a85-3694-447b-a080-a4ae8e64b265",
   "metadata": {},
   "outputs": [],
   "source": [
    "#Q4\n",
    "'''\n",
    "A multiprocessing pool in Python is a feature provided by the multiprocessing module that allows you to manage a pool of worker processes.\n",
    "This pool can be used to parallelize the execution of a function across multiple input values, distributing the workload among the available processors efficiently.\n",
    "'''\n"
   ]
  },
  {
   "cell_type": "code",
   "execution_count": null,
   "id": "687dcc53-c149-48a9-9a0a-903b7f27f2fb",
   "metadata": {},
   "outputs": [],
   "source": [
    "#Q5\n",
    "'''\n"
   ]
  }
 ],
 "metadata": {
  "kernelspec": {
   "display_name": "Python 3 (ipykernel)",
   "language": "python",
   "name": "python3"
  },
  "language_info": {
   "codemirror_mode": {
    "name": "ipython",
    "version": 3
   },
   "file_extension": ".py",
   "mimetype": "text/x-python",
   "name": "python",
   "nbconvert_exporter": "python",
   "pygments_lexer": "ipython3",
   "version": "3.10.8"
  }
 },
 "nbformat": 4,
 "nbformat_minor": 5
}
